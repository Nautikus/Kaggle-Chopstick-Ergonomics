{
 "cells": [
  {
   "cell_type": "markdown",
   "metadata": {},
   "source": [
    "In this notebook, we will use the chopstick length data provided at: https://www.kaggle.com/priya2908/chopsticks-1992. I will provide some statistics on the datasets using R.\n",
    "\n",
    "Quantitative Variable = Chopstick.Length\n",
    "Qualitative Variable = Food.Pinching.Efficiency"
   ]
  },
  {
   "cell_type": "code",
   "execution_count": 49,
   "metadata": {},
   "outputs": [],
   "source": [
    "#Libraries required\n",
    "library(dplyr)\n",
    "library(lattice)"
   ]
  },
  {
   "cell_type": "code",
   "execution_count": 6,
   "metadata": {},
   "outputs": [],
   "source": [
    "#Read the data from Kaggle to a data frame\n",
    "chopsticks <- read.csv(\"chopstick-effectiveness.csv\", header = TRUE, sep=\",\", quote=\"\\\"\")"
   ]
  },
  {
   "cell_type": "markdown",
   "metadata": {},
   "source": [
    "## Exploratory Tables"
   ]
  },
  {
   "cell_type": "code",
   "execution_count": 9,
   "metadata": {},
   "outputs": [
    {
     "data": {
      "text/html": [
       "'data.frame'"
      ],
      "text/latex": [
       "'data.frame'"
      ],
      "text/markdown": [
       "'data.frame'"
      ],
      "text/plain": [
       "[1] \"data.frame\""
      ]
     },
     "metadata": {},
     "output_type": "display_data"
    }
   ],
   "source": [
    "#Show the class of chopsticks to verify it is a dataframe\n",
    "class(chopsticks)"
   ]
  },
  {
   "cell_type": "code",
   "execution_count": 7,
   "metadata": {},
   "outputs": [
    {
     "data": {
      "text/html": [
       "<table>\n",
       "<thead><tr><th scope=col>Food.Pinching.Efficiency</th><th scope=col>Individual</th><th scope=col>Chopstick.Length</th></tr></thead>\n",
       "<tbody>\n",
       "\t<tr><td>19.55</td><td>1    </td><td>180  </td></tr>\n",
       "\t<tr><td>27.24</td><td>2    </td><td>180  </td></tr>\n",
       "\t<tr><td>28.76</td><td>3    </td><td>180  </td></tr>\n",
       "\t<tr><td>31.19</td><td>4    </td><td>180  </td></tr>\n",
       "\t<tr><td>21.91</td><td>5    </td><td>180  </td></tr>\n",
       "\t<tr><td>27.62</td><td>6    </td><td>180  </td></tr>\n",
       "</tbody>\n",
       "</table>\n"
      ],
      "text/latex": [
       "\\begin{tabular}{r|lll}\n",
       " Food.Pinching.Efficiency & Individual & Chopstick.Length\\\\\n",
       "\\hline\n",
       "\t 19.55 & 1     & 180  \\\\\n",
       "\t 27.24 & 2     & 180  \\\\\n",
       "\t 28.76 & 3     & 180  \\\\\n",
       "\t 31.19 & 4     & 180  \\\\\n",
       "\t 21.91 & 5     & 180  \\\\\n",
       "\t 27.62 & 6     & 180  \\\\\n",
       "\\end{tabular}\n"
      ],
      "text/markdown": [
       "\n",
       "Food.Pinching.Efficiency | Individual | Chopstick.Length | \n",
       "|---|---|---|---|---|---|\n",
       "| 19.55 | 1     | 180   | \n",
       "| 27.24 | 2     | 180   | \n",
       "| 28.76 | 3     | 180   | \n",
       "| 31.19 | 4     | 180   | \n",
       "| 21.91 | 5     | 180   | \n",
       "| 27.62 | 6     | 180   | \n",
       "\n",
       "\n"
      ],
      "text/plain": [
       "  Food.Pinching.Efficiency Individual Chopstick.Length\n",
       "1 19.55                    1          180             \n",
       "2 27.24                    2          180             \n",
       "3 28.76                    3          180             \n",
       "4 31.19                    4          180             \n",
       "5 21.91                    5          180             \n",
       "6 27.62                    6          180             "
      ]
     },
     "metadata": {},
     "output_type": "display_data"
    }
   ],
   "source": [
    "#Get basic information about the data frame\n",
    "head(chopsticks)"
   ]
  },
  {
   "cell_type": "code",
   "execution_count": 15,
   "metadata": {
    "scrolled": true
   },
   "outputs": [
    {
     "data": {
      "text/html": [
       "0"
      ],
      "text/latex": [
       "0"
      ],
      "text/markdown": [
       "0"
      ],
      "text/plain": [
       "[1] 0"
      ]
     },
     "metadata": {},
     "output_type": "display_data"
    }
   ],
   "source": [
    "#Check for any NA/Null values\n",
    "sum(is.na(chopsticks))"
   ]
  },
  {
   "cell_type": "code",
   "execution_count": 8,
   "metadata": {},
   "outputs": [
    {
     "data": {
      "text/plain": [
       " Food.Pinching.Efficiency   Individual Chopstick.Length\n",
       " Min.   :14.47            Min.   : 1   Min.   :180     \n",
       " 1st Qu.:22.54            1st Qu.: 8   1st Qu.:210     \n",
       " Median :24.91            Median :16   Median :255     \n",
       " Mean   :25.01            Mean   :16   Mean   :255     \n",
       " 3rd Qu.:27.93            3rd Qu.:24   3rd Qu.:300     \n",
       " Max.   :36.15            Max.   :31   Max.   :330     "
      ]
     },
     "metadata": {},
     "output_type": "display_data"
    }
   ],
   "source": [
    "#Summarize the data frame. We can see that lowest efficiency was 14.47 peanuts, and the highest was 36.15, \n",
    "#with an mean efficiency of 25.01. The data skews towards the right, with a higher number of peanuts above average.\n",
    "summary(chopsticks)"
   ]
  },
  {
   "cell_type": "code",
   "execution_count": 16,
   "metadata": {},
   "outputs": [
    {
     "data": {
      "text/html": [
       "25.0055913978495"
      ],
      "text/latex": [
       "25.0055913978495"
      ],
      "text/markdown": [
       "25.0055913978495"
      ],
      "text/plain": [
       "[1] 25.00559"
      ]
     },
     "metadata": {},
     "output_type": "display_data"
    }
   ],
   "source": [
    "mean(chopsticks$Food.Pinching.Efficiency)"
   ]
  },
  {
   "cell_type": "code",
   "execution_count": 36,
   "metadata": {},
   "outputs": [
    {
     "data": {
      "text/html": [
       "<table>\n",
       "<thead><tr><th scope=col>Chopstick.Length</th><th scope=col>mean(Food.Pinching.Efficiency)</th><th scope=col>min(Food.Pinching.Efficiency)</th><th scope=col>max(Food.Pinching.Efficiency)</th></tr></thead>\n",
       "<tbody>\n",
       "\t<tr><td>180     </td><td>24.93516</td><td>14.47   </td><td>31.19   </td></tr>\n",
       "\t<tr><td>210     </td><td>25.48387</td><td>16.47   </td><td>32.55   </td></tr>\n",
       "\t<tr><td>240     </td><td>26.32290</td><td>16.35   </td><td>36.15   </td></tr>\n",
       "\t<tr><td>270     </td><td>24.32387</td><td>16.70   </td><td>31.15   </td></tr>\n",
       "\t<tr><td>300     </td><td>24.96806</td><td>16.71   </td><td>31.07   </td></tr>\n",
       "\t<tr><td>330     </td><td>23.99968</td><td>16.28   </td><td>31.69   </td></tr>\n",
       "</tbody>\n",
       "</table>\n"
      ],
      "text/latex": [
       "\\begin{tabular}{r|llll}\n",
       " Chopstick.Length & mean(Food.Pinching.Efficiency) & min(Food.Pinching.Efficiency) & max(Food.Pinching.Efficiency)\\\\\n",
       "\\hline\n",
       "\t 180      & 24.93516 & 14.47    & 31.19   \\\\\n",
       "\t 210      & 25.48387 & 16.47    & 32.55   \\\\\n",
       "\t 240      & 26.32290 & 16.35    & 36.15   \\\\\n",
       "\t 270      & 24.32387 & 16.70    & 31.15   \\\\\n",
       "\t 300      & 24.96806 & 16.71    & 31.07   \\\\\n",
       "\t 330      & 23.99968 & 16.28    & 31.69   \\\\\n",
       "\\end{tabular}\n"
      ],
      "text/markdown": [
       "\n",
       "Chopstick.Length | mean(Food.Pinching.Efficiency) | min(Food.Pinching.Efficiency) | max(Food.Pinching.Efficiency) | \n",
       "|---|---|---|---|---|---|\n",
       "| 180      | 24.93516 | 14.47    | 31.19    | \n",
       "| 210      | 25.48387 | 16.47    | 32.55    | \n",
       "| 240      | 26.32290 | 16.35    | 36.15    | \n",
       "| 270      | 24.32387 | 16.70    | 31.15    | \n",
       "| 300      | 24.96806 | 16.71    | 31.07    | \n",
       "| 330      | 23.99968 | 16.28    | 31.69    | \n",
       "\n",
       "\n"
      ],
      "text/plain": [
       "  Chopstick.Length mean(Food.Pinching.Efficiency) min(Food.Pinching.Efficiency)\n",
       "1 180              24.93516                       14.47                        \n",
       "2 210              25.48387                       16.47                        \n",
       "3 240              26.32290                       16.35                        \n",
       "4 270              24.32387                       16.70                        \n",
       "5 300              24.96806                       16.71                        \n",
       "6 330              23.99968                       16.28                        \n",
       "  max(Food.Pinching.Efficiency)\n",
       "1 31.19                        \n",
       "2 32.55                        \n",
       "3 36.15                        \n",
       "4 31.15                        \n",
       "5 31.07                        \n",
       "6 31.69                        "
      ]
     },
     "metadata": {},
     "output_type": "display_data"
    }
   ],
   "source": [
    "#This will group the chopsticks by Length, and then calculation min, max and mean for efficiency of each size. The 240mm\n",
    "#chopstick was the most efficiency\n",
    "byfpe <- group_by(chopsticks, Chopstick.Length)\n",
    "summarise(byfpe, mean(Food.Pinching.Efficiency), min(Food.Pinching.Efficiency), max(Food.Pinching.Efficiency))"
   ]
  },
  {
   "cell_type": "markdown",
   "metadata": {},
   "source": [
    "## Graphics"
   ]
  },
  {
   "cell_type": "code",
   "execution_count": 41,
   "metadata": {},
   "outputs": [
    {
     "data": {
      "image/png": "[encoded data removed]",
      "text/plain": [
       "Plot with title \"Chopstick Effiency\""
      ]
     },
     "metadata": {},
     "output_type": "display_data"
    }
   ],
   "source": [
    "boxplot(chopsticks$Food.Pinching.Efficiency ~ chopsticks$Chopstick.Length, main = \"Chopstick Effiency\", xlab = \"Length\",\n",
    "       ylab = \"Efficiency\", col = c(\"azure3\"))\n",
    "\n",
    "#Draw a line for the mean value of all efficiency values\n",
    "abline(h = mean(chopsticks$Food.Pinching.Efficiency), col = \"red\")"
   ]
  },
  {
   "cell_type": "code",
   "execution_count": 96,
   "metadata": {},
   "outputs": [
    {
     "data": {
      "image/png": "[encoded data removed]",
      "text/plain": [
       "Plot with title \"Chopstick Efficiency\""
      ]
     },
     "metadata": {},
     "output_type": "display_data"
    }
   ],
   "source": [
    "plot(chopsticks$Chopstick.Length, chopsticks$Food.Pinching.Efficiency,     \n",
    "     main = \"Chopstick Efficiency\",\n",
    "     ylab = \"Efficiency\",\n",
    "     xlab = \"Length\")\n",
    "\n",
    "#Plot the line of best fit across the data\n",
    "regression <- lm(chopsticks$Food.Pinching.Efficiency ~ chopsticks$Chopstick.Length)\n",
    "abline(regression, col = \"red\")"
   ]
  },
  {
   "cell_type": "code",
   "execution_count": 72,
   "metadata": {},
   "outputs": [
    {
     "data": {},
     "metadata": {},
     "output_type": "display_data"
    },
    {
     "data": {
      "image/png": "[encoded data removed]",
      "text/plain": [
       "plot without title"
      ]
     },
     "metadata": {},
     "output_type": "display_data"
    }
   ],
   "source": [
    "xyplot(chopsticks$Food.Pinching.Efficiency ~ chopsticks$Chopstick.Length | chopsticks$Individual, grid = TRUE, \n",
    "       strip = FALSE,\n",
    "       type = c(\"p\", \"r\"),\n",
    "       xlab = \"Length\",\n",
    "       ylab = \"Food Pinching Efficiency\",\n",
    "       main = \"Food Pinching Efficiency Grouped By Individual\")"
   ]
  },
  {
   "cell_type": "markdown",
   "metadata": {},
   "source": [
    "## Conclusion"
   ]
  },
  {
   "cell_type": "markdown",
   "metadata": {},
   "source": [
    "Based on the above, one could conclude that across the whole sample, that 240mm chopsticks are most likely to work the best, and chopsticks grow less effective as they get longer. However, as noted in the individual grouping chart, some people experienced more efficacy as chopsticks grew longer. "
   ]
  }
 ],
 "metadata": {
  "kernelspec": {
   "display_name": "R",
   "language": "R",
   "name": "ir"
  },
  "language_info": {
   "codemirror_mode": "r",
   "file_extension": ".r",
   "mimetype": "text/x-r-source",
   "name": "R",
   "pygments_lexer": "r",
   "version": "3.3.2"
  }
 },
 "nbformat": 4,
 "nbformat_minor": 2
}
